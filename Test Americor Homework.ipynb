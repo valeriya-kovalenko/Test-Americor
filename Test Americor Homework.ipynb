{
 "cells": [
  {
   "cell_type": "code",
   "execution_count": 38,
   "id": "4baf114b",
   "metadata": {},
   "outputs": [],
   "source": [
    "import google.auth\n",
    "import google.oauth2\n",
    "import googleapiclient\n",
    "import pandas as pd\n",
    "import openpyxl\n",
    "import numpy as np\n",
    "import io\n",
    "import gspread\n",
    "import matplotlib.pyplot as plt\n",
    "\n",
    "from google.oauth2 import service_account\n",
    "from googleapiclient.discovery import build\n",
    "from googleapiclient.http import MediaIoBaseDownload,MediaFileUpload\n",
    "from oauth2client.service_account import ServiceAccountCredentials\n",
    "from googleapiclient.errors import HttpError\n",
    "\n",
    "import pprint\n",
    "pp = pprint.PrettyPrinter(indent=4)"
   ]
  },
  {
   "cell_type": "markdown",
   "id": "012e0901",
   "metadata": {},
   "source": [
    "<span style=\"font-size: 20px; font-weight:bold\">Extract data from Google Drive</span>"
   ]
  },
  {
   "cell_type": "code",
   "execution_count": 2,
   "id": "ea429a11",
   "metadata": {},
   "outputs": [],
   "source": [
    "# Authenticate and build the Drive API client\n",
    "SCOPES = ['https://www.googleapis.com/auth/drive']\n",
    "SERVICE_ACCOUNT_FILE = 'C:/Users/valer/Projects/test-americor-8e8b3f1bd083.json'\n",
    "# creds = None\n",
    "credentials = service_account.Credentials.from_service_account_file(SERVICE_ACCOUNT_FILE, scopes=SCOPES)\n",
    "\n",
    "drive_service = build('drive', 'v3', credentials=credentials)\n",
    "sheets_service = build('sheets', 'v4', credentials=credentials)"
   ]
  },
  {
   "cell_type": "code",
   "execution_count": 3,
   "id": "81cc6b7d",
   "metadata": {
    "scrolled": true
   },
   "outputs": [
    {
     "name": "stdout",
     "output_type": "stream",
     "text": [
      "{   'files': [   {   'id': '1u5vCLZlnNS1JRI5dV57KFTA38YOKJAoCncoMv3c-F9A',\n",
      "                     'mimeType': 'application/vnd.google-apps.spreadsheet',\n",
      "                     'name': 'Test Americor Exercise 4'},\n",
      "                 {   'id': '164qtlka8K5wb0Vb5-bgEw2mAcyoxuoLl81xYDZUoLnw',\n",
      "                     'mimeType': 'application/vnd.google-apps.spreadsheet',\n",
      "                     'name': 'Test Americor Exercise 4'},\n",
      "                 {   'id': '1bYuzcTK45QrH3IR_IfrwmdAs89zEKuut',\n",
      "                     'mimeType': 'application/vnd.openxmlformats-officedocument.spreadsheetml.sheet',\n",
      "                     'name': 'department.xlsx'},\n",
      "                 {   'id': '1fQNzHY4t3eta0-eFlKl-VTpzTSESksV5',\n",
      "                     'mimeType': 'application/vnd.google-apps.folder',\n",
      "                     'name': 'My folder for test'},\n",
      "                 {   'id': '1ZunIGOYpVs5WmH4ECuW0B-dPLKvbL_8z',\n",
      "                     'mimeType': 'application/vnd.openxmlformats-officedocument.spreadsheetml.sheet',\n",
      "                     'name': 'user_team.xlsx'},\n",
      "                 {   'id': '1GDlCRq8MAO6G-MBaJ3qX5VdUDcO6K6PF',\n",
      "                     'mimeType': 'application/vnd.openxmlformats-officedocument.spreadsheetml.sheet',\n",
      "                     'name': 'user_team_change.xlsx'},\n",
      "                 {   'id': '10Kkmgd4z2ngJKPcHf0v-zxi8wN_g-cy3',\n",
      "                     'mimeType': 'application/vnd.openxmlformats-officedocument.spreadsheetml.sheet',\n",
      "                     'name': 'team.xlsx'},\n",
      "                 {   'id': '1ILpoGxde5pcJI1h6eoZS6TEH2mbecj9o',\n",
      "                     'mimeType': 'application/vnd.openxmlformats-officedocument.wordprocessingml.document',\n",
      "                     'name': 'Interview Question.docx'},\n",
      "                 {   'id': '1DjMeDP-IsaZBt8wLGROl2Lons5WoTtIX',\n",
      "                     'mimeType': 'application/vnd.openxmlformats-officedocument.spreadsheetml.sheet',\n",
      "                     'name': 'customer_creditor_action.xlsx'},\n",
      "                 {   'id': '1BOWDaYzOyctL7XYbxg0LMUq9B4_0_UsU',\n",
      "                     'mimeType': 'application/vnd.openxmlformats-officedocument.spreadsheetml.sheet',\n",
      "                     'name': 'customer_action.xlsx'}],\n",
      "    'nextPageToken': '~!!~AI9FV7QWNxk9mVsETHRKVSxqE_uyOM5R5Y4ioFIlDIkD4d-RZbekgAkFec8rPT-dqXQd3Oqei6Mqx8ZOfJuUY-x5xYGdLmBukF1RjhroUKuSpg8mPYk3uf40pHZKWMOo28aCw6xLirTkfhxWJjQ1FeKH7EdavpGT9Vhj8OADpCaPeiRMeNDfsMSNN26N6HeUeBDexB0QThfSz-Sx4TbyFcsE1AU2vckZutPP-YO2CFwvAgnpYeEuRgHdfvbSA5d4sICBKFGH9xAEBfLlLuI7pzVZ6yUlkUAB2PCV7sWbf3WICmP6hNXur0QufcCONrh8K4tDSuRRMN_R'}\n"
     ]
    }
   ],
   "source": [
    "results = drive_service.files().list(pageSize=10,\n",
    "                               fields=\"nextPageToken, files(id, name, mimeType)\").execute()\n",
    "pp.pprint(results)"
   ]
  },
  {
   "cell_type": "code",
   "execution_count": 4,
   "id": "3d86d86d",
   "metadata": {
    "scrolled": true
   },
   "outputs": [],
   "source": [
    "# Define the folder ID and file names\n",
    "folder_id = '1fQNzHY4t3eta0-eFlKl-VTpzTSESksV5'\n",
    "file_names = ['crm_dictionary.xlsx', 'customer_action.xlsx', 'customer_creditor_action.xlsx', 'department.xlsx', 'team.xlsx', 'user_team.xlsx', 'user_team_change.xlsx']"
   ]
  },
  {
   "cell_type": "code",
   "execution_count": 5,
   "id": "920030d7",
   "metadata": {},
   "outputs": [
    {
     "name": "stdout",
     "output_type": "stream",
     "text": [
      "Dataframe name: df_crm_dictionary\n",
      "Dataframe columns: ['id', 'crm_object_name', 'crm_object_attribute', 'crm_object_id', 'crm_object_description']\n",
      "Dataframe name: df_customer_action\n",
      "Dataframe columns: ['log_id', 'ins_ts', 'user_id', 'customer_id', 'old_value', 'new_value']\n",
      "Dataframe name: df_customer_creditor_action\n",
      "Dataframe columns: ['log_id', 'ins_ts', 'user_id', 'customer_creditor_id', 'old_value', 'new_value']\n",
      "Dataframe name: df_department\n",
      "Dataframe columns: ['id', 'title']\n",
      "Dataframe name: df_team\n",
      "Dataframe columns: ['id', 'name', 'department_id', 'updated_at']\n",
      "Dataframe name: df_user_team\n",
      "Dataframe columns: ['user_id', 'team_id', 'updated_at', 'id']\n",
      "Dataframe name: df_user_team_change\n",
      "Dataframe columns: ['id', 'ins_ts', 'user_id', 'attribute', 'old_value', 'new_value']\n"
     ]
    }
   ],
   "source": [
    "# Loop through the file names and read each file\n",
    "dfs = {} \n",
    "\n",
    "for file_name in file_names:\n",
    "    # Find the file ID\n",
    "    query = \"name='{}' and parents='{}' and mimeType='application/vnd.openxmlformats-officedocument.spreadsheetml.sheet'\".format(file_name, folder_id)\n",
    "    results = drive_service.files().list(q=query, fields=\"files(id)\").execute()\n",
    "    items = results.get('files', [])\n",
    "    if not items:\n",
    "        print('File not found: {}'.format(file_name))\n",
    "        continue\n",
    "    file_id = items[0]['id']\n",
    "    \n",
    "    try:\n",
    "        # Download the file contents\n",
    "        file = drive_service.files().get_media(fileId=file_id)\n",
    "        file_content = file.execute()\n",
    "        file_bytes = io.BytesIO(file_content)\n",
    "        \n",
    "        # Check the type of the file_bytes object\n",
    "        if not isinstance(file_bytes.getvalue(), bytes):\n",
    "            raise ValueError(\"Invalid file contents\")\n",
    "        \n",
    "        # Read the file contents into a Pandas dataframe\n",
    "        df = pd.read_excel(file_bytes, sheet_name=0, header=0)\n",
    "        \n",
    "        # Conduct exploratory data analysis\n",
    "        # print('----------------------------------------')\n",
    "        # print('Exploratory data analysis for {}:\\n'.format(file_name))\n",
    "        # print('Dataframe shape:', df.shape)\n",
    "        # print('\\nDataframe info:')\n",
    "        # print(df.info())\n",
    "        # print('\\nDescriptive statistics:')\n",
    "        # print(df.describe())\n",
    "        # print('\\nMissing values:')\n",
    "        # print(df.isnull().sum())\n",
    "        # print('\\nDuplicate rows:')\n",
    "        # print(df.duplicated().sum())\n",
    "        # df.head()\n",
    "        # print('----------------------------------------')\n",
    "        \n",
    "        # Add the dataframe to the dictionary with the file name as key\n",
    "        df_name = 'df_' + file_name.split('.')[0]\n",
    "        dfs[df_name] = df\n",
    "        \n",
    "        print('Dataframe name:', df_name)\n",
    "        print('Dataframe columns:', list(df.columns))\n",
    "        \n",
    "    except Exception as e:\n",
    "        print('Error while processing {}: {}'.format(file_name, str(e)))\n"
   ]
  },
  {
   "cell_type": "markdown",
   "id": "6fe0482b",
   "metadata": {},
   "source": [
    "<span style=\"font-size: 20px; font-weight:bold\">Exercise 1</span>\n"
   ]
  },
  {
   "cell_type": "code",
   "execution_count": 6,
   "id": "63aa0f0c",
   "metadata": {},
   "outputs": [
    {
     "name": "stdout",
     "output_type": "stream",
     "text": [
      "       log_id              ins_ts  user_id  customer_id  old_value  new_value\n",
      "0  1217408899 2020-11-01 00:07:38     5910      1102636       15.0         41\n",
      "1  1217413011 2020-11-01 00:16:29     5200      2312093       16.0         13\n",
      "2  1217415671 2020-11-01 00:21:13     6361      2311203       16.0         13\n",
      "3  1217433239 2020-11-01 01:22:01     5200      2312329        NaN          0\n",
      "4  1217433377 2020-11-01 01:22:43     5200      2312329        0.0         16\n"
     ]
    }
   ],
   "source": [
    "print(dfs['df_customer_action'].head())"
   ]
  },
  {
   "cell_type": "code",
   "execution_count": 7,
   "id": "ef9f822f",
   "metadata": {
    "scrolled": true
   },
   "outputs": [
    {
     "name": "stdout",
     "output_type": "stream",
     "text": [
      "[16, 3, 0]\n"
     ]
    }
   ],
   "source": [
    "# Find the top 3 most frequent new values in the customer_action table\n",
    "top_3_values = dfs['df_customer_action']['new_value'].value_counts().nlargest(3).index.tolist()\n",
    "print(top_3_values)"
   ]
  },
  {
   "cell_type": "code",
   "execution_count": 8,
   "id": "2c3827de",
   "metadata": {},
   "outputs": [],
   "source": [
    "# Filter the customer table to only include the top 3 values\n",
    "df_customer_action_filtered = dfs['df_customer_action'][dfs['df_customer_action']['new_value'].isin(top_3_values)]"
   ]
  },
  {
   "cell_type": "code",
   "execution_count": 9,
   "id": "0dbd3eda",
   "metadata": {},
   "outputs": [
    {
     "name": "stdout",
     "output_type": "stream",
     "text": [
      "       log_id              ins_ts  user_id  customer_id  old_value  new_value\n",
      "3  1217433239 2020-11-01 01:22:01     5200      2312329        NaN          0\n",
      "4  1217433377 2020-11-01 01:22:43     5200      2312329        0.0         16\n",
      "5  1217435949 2020-11-01 01:36:13     5200      2312329       16.0          3\n",
      "6  1217453993 2020-11-01 02:58:43     5200      2263435        0.0         16\n",
      "7  1217456409 2020-11-01 03:06:53     5200      2312515        0.0         16\n"
     ]
    }
   ],
   "source": [
    "print(df_customer_action_filtered.head())"
   ]
  },
  {
   "cell_type": "code",
   "execution_count": 10,
   "id": "a9881306",
   "metadata": {},
   "outputs": [
    {
     "name": "stdout",
     "output_type": "stream",
     "text": [
      "     user_id     ins_ts  Total_Action_Count\n",
      "0          1 2020-12-31                   1\n",
      "1       4003 2020-12-31                   1\n",
      "2       4028 2020-11-30                   2\n",
      "3       4061 2020-11-30                  27\n",
      "4       4061 2020-12-31                  39\n",
      "..       ...        ...                 ...\n",
      "401     6814 2020-12-31                  95\n",
      "402     6817 2020-12-31                  69\n",
      "403     6820 2020-12-31                  30\n",
      "404     6826 2020-12-31                  72\n",
      "405     6829 2020-12-31                  43\n",
      "\n",
      "[406 rows x 3 columns]\n",
      "Dataframe columns: ['user_id', 'ins_ts', 'Total_Action_Count']\n"
     ]
    }
   ],
   "source": [
    "# Group the data by user_id and month, and count the number of actions\n",
    "df_actions_by_user_month = (df_customer_action_filtered.groupby(['user_id', pd.Grouper(key='ins_ts', freq='M')])\n",
    "                            .size()\n",
    "                            .reset_index(name='Total_Action_Count'))\n",
    "print(df_actions_by_user_month)\n",
    "print('Dataframe columns:', list(df_actions_by_user_month.columns))"
   ]
  },
  {
   "cell_type": "code",
   "execution_count": 11,
   "id": "a7afe260",
   "metadata": {},
   "outputs": [
    {
     "name": "stdout",
     "output_type": "stream",
     "text": [
      "Dataframe df_user_team columns: ['user_id', 'team_id', 'updated_at', 'id']\n",
      "Dataframe df_actions_by_user_month columns: ['user_id', 'ins_ts', 'Total_Action_Count']\n"
     ]
    }
   ],
   "source": [
    "print('Dataframe df_user_team columns:', list(dfs['df_user_team'].columns))\n",
    "print('Dataframe df_actions_by_user_month columns:', list(df_actions_by_user_month.columns))"
   ]
  },
  {
   "cell_type": "code",
   "execution_count": 12,
   "id": "b51011dd",
   "metadata": {},
   "outputs": [
    {
     "name": "stdout",
     "output_type": "stream",
     "text": [
      "Dataframe df_user_team_department columns: ['user_id', 'team_id', 'name', 'department_id', 'id', 'title']\n",
      "     user_id  team_id                    name  department_id   id  \\\n",
      "0       4694       11         Team Sales- Joe            1.0  1.0   \n",
      "1       4795       11         Team Sales- Joe            1.0  1.0   \n",
      "2       4628       11         Team Sales- Joe            1.0  1.0   \n",
      "3       4863       11         Team Sales- Joe            1.0  1.0   \n",
      "4       4662       15             Team Renata            3.0  3.0   \n",
      "..       ...      ...                     ...            ...  ...   \n",
      "900     7405       46  Team Carren (Trainees)            2.0  2.0   \n",
      "901     6146       51            CS Team - LC            3.0  3.0   \n",
      "902     6787       53            CS Team - CC            3.0  3.0   \n",
      "903     7277        8            Team Jocelyn            2.0  2.0   \n",
      "904     6233       11         Team Sales- Joe            1.0  1.0   \n",
      "\n",
      "                title  \n",
      "0               Sales  \n",
      "1               Sales  \n",
      "2               Sales  \n",
      "3               Sales  \n",
      "4    Customer Service  \n",
      "..                ...  \n",
      "900      Negotiations  \n",
      "901  Customer Service  \n",
      "902  Customer Service  \n",
      "903      Negotiations  \n",
      "904             Sales  \n",
      "\n",
      "[905 rows x 6 columns]\n"
     ]
    }
   ],
   "source": [
    "# Join the user and team data to get the team information\n",
    "df_user_team = pd.merge(dfs['df_user_team'], dfs['df_team'], left_on='team_id', right_on='id')\n",
    "# Join tables to get team and department information\n",
    "df_user_team_team = pd.merge(dfs['df_user_team'], dfs['df_team'], how='left', left_on='team_id', right_on='id')\n",
    "df_user_team_department = pd.merge(df_user_team_team, dfs['df_department'], how='left', left_on='department_id', right_on='id')\n",
    "df_user_team_department.drop(['id_x', 'id_y', 'updated_at_x', 'updated_at_y'], axis=1, inplace=True)\n",
    "print('Dataframe df_user_team_department columns:', list(df_user_team_department.columns))\n",
    "print(df_user_team_department)"
   ]
  },
  {
   "cell_type": "code",
   "execution_count": 13,
   "id": "7f9f7394",
   "metadata": {},
   "outputs": [
    {
     "name": "stdout",
     "output_type": "stream",
     "text": [
      "Dataframe df_user_team_department columns: ['user_id', 'team_id', 'team_name', 'department_id', 'department_name']\n",
      "     user_id  team_id               team_name  department_id   department_name\n",
      "0       4694       11         Team Sales- Joe            1.0             Sales\n",
      "1       4795       11         Team Sales- Joe            1.0             Sales\n",
      "2       4628       11         Team Sales- Joe            1.0             Sales\n",
      "3       4863       11         Team Sales- Joe            1.0             Sales\n",
      "4       4662       15             Team Renata            3.0  Customer Service\n",
      "..       ...      ...                     ...            ...               ...\n",
      "900     7405       46  Team Carren (Trainees)            2.0      Negotiations\n",
      "901     6146       51            CS Team - LC            3.0  Customer Service\n",
      "902     6787       53            CS Team - CC            3.0  Customer Service\n",
      "903     7277        8            Team Jocelyn            2.0      Negotiations\n",
      "904     6233       11         Team Sales- Joe            1.0             Sales\n",
      "\n",
      "[905 rows x 5 columns]\n"
     ]
    }
   ],
   "source": [
    "df_user_team_department = df_user_team_department.drop(['id'], axis=1) # remove unnecessary columns\n",
    "df_user_team_department = df_user_team_department.rename(columns={'name': 'team_name', 'title': 'department_name'}) # rename the 'name' column to 'team_name'\n",
    "print('Dataframe df_user_team_department columns:', list(df_user_team_department.columns))\n",
    "print(df_user_team_department)"
   ]
  },
  {
   "cell_type": "code",
   "execution_count": 14,
   "id": "43a4c8f8",
   "metadata": {},
   "outputs": [],
   "source": [
    "# Join the user team department table with the actions by user and month table\n",
    "df_actions_merged = pd.merge(df_actions_by_user_month, df_user_team_department, how='left', left_on='user_id', right_on='user_id')\n"
   ]
  },
  {
   "cell_type": "code",
   "execution_count": 15,
   "id": "ef893f03",
   "metadata": {},
   "outputs": [
    {
     "name": "stdout",
     "output_type": "stream",
     "text": [
      "Dataframe df_actions_merged columns: ['user_id', 'ins_ts', 'Total_Action_Count', 'team_id', 'team_name', 'department_id', 'department_name']\n",
      "     user_id     ins_ts  Total_Action_Count  team_id            team_name  \\\n",
      "0          1 2020-12-31                   1      NaN                  NaN   \n",
      "1       4003 2020-12-31                   1     33.0                The U   \n",
      "2       4028 2020-11-30                   2      NaN                  NaN   \n",
      "3       4061 2020-11-30                  27      3.0  Team Sales - Jordan   \n",
      "4       4061 2020-12-31                  39      3.0  Team Sales - Jordan   \n",
      "..       ...        ...                 ...      ...                  ...   \n",
      "401     6814 2020-12-31                  95     41.0          The U Boise   \n",
      "402     6817 2020-12-31                  69     41.0          The U Boise   \n",
      "403     6820 2020-12-31                  30     50.0       Boise Warriors   \n",
      "404     6826 2020-12-31                  72     50.0       Boise Warriors   \n",
      "405     6829 2020-12-31                  43     41.0          The U Boise   \n",
      "\n",
      "     department_id department_name  \n",
      "0              NaN             NaN  \n",
      "1              1.0           Sales  \n",
      "2              NaN             NaN  \n",
      "3              1.0           Sales  \n",
      "4              1.0           Sales  \n",
      "..             ...             ...  \n",
      "401            1.0           Sales  \n",
      "402            1.0           Sales  \n",
      "403            1.0           Sales  \n",
      "404            1.0           Sales  \n",
      "405            1.0           Sales  \n",
      "\n",
      "[406 rows x 7 columns]\n"
     ]
    }
   ],
   "source": [
    "print('Dataframe df_actions_merged columns:', list(df_actions_merged.columns))\n",
    "print(df_actions_merged)"
   ]
  },
  {
   "cell_type": "code",
   "execution_count": 16,
   "id": "67ae09ac",
   "metadata": {},
   "outputs": [
    {
     "name": "stdout",
     "output_type": "stream",
     "text": [
      "          team_name department_name  user_id     ins_ts  Total_Action_Count\n",
      "0    Boise Warriors           Sales     4481 2020-11-30                 170\n",
      "1    Boise Warriors           Sales     4481 2020-12-31                 137\n",
      "2    Boise Warriors           Sales     4679 2020-11-30                  52\n",
      "3    Boise Warriors           Sales     5033 2020-11-30                 144\n",
      "4    Boise Warriors           Sales     5033 2020-12-31                  74\n",
      "..              ...             ...      ...        ...                 ...\n",
      "372     The U Boise           Sales     6346 2020-11-30                  90\n",
      "373     The U Boise           Sales     6352 2020-11-30                  58\n",
      "374     The U Boise           Sales     6814 2020-12-31                  95\n",
      "375     The U Boise           Sales     6817 2020-12-31                  69\n",
      "376     The U Boise           Sales     6829 2020-12-31                  43\n",
      "\n",
      "[377 rows x 5 columns]\n",
      "Dataframe df_actions_merged columns: ['team_name', 'department_name', 'user_id', 'ins_ts', 'Total_Action_Count']\n"
     ]
    }
   ],
   "source": [
    "# Group the data by team, department, user, and month, and calculate the total action count for each user and month\n",
    "df_actions_merged = (df_actions_merged.groupby(['team_name', 'department_name', 'user_id', pd.Grouper(key='ins_ts', freq='M')])\n",
    "                                            .agg({'Total_Action_Count': 'sum'})\n",
    "                                            .reset_index())\n",
    "\n",
    "print(df_actions_merged)\n",
    "print('Dataframe df_actions_merged columns:', list(df_actions_merged.columns))"
   ]
  },
  {
   "cell_type": "code",
   "execution_count": 17,
   "id": "725ebe9a",
   "metadata": {},
   "outputs": [
    {
     "name": "stdout",
     "output_type": "stream",
     "text": [
      "Dataframe df_actions_merged columns: ['team_name', 'department_name', 'user_id', 'ins_ts', 'Total_Action_Count', 'MoM%']\n",
      "          team_name department_name  user_id     ins_ts  Total_Action_Count  \\\n",
      "0    Boise Warriors           Sales     4481 2020-11-30                 170   \n",
      "1    Boise Warriors           Sales     4481 2020-12-31                 137   \n",
      "2    Boise Warriors           Sales     4679 2020-11-30                  52   \n",
      "3    Boise Warriors           Sales     5033 2020-11-30                 144   \n",
      "4    Boise Warriors           Sales     5033 2020-12-31                  74   \n",
      "..              ...             ...      ...        ...                 ...   \n",
      "372     The U Boise           Sales     6346 2020-11-30                  90   \n",
      "373     The U Boise           Sales     6352 2020-11-30                  58   \n",
      "374     The U Boise           Sales     6814 2020-12-31                  95   \n",
      "375     The U Boise           Sales     6817 2020-12-31                  69   \n",
      "376     The U Boise           Sales     6829 2020-12-31                  43   \n",
      "\n",
      "     MoM%  \n",
      "0    0.00  \n",
      "1   -0.19  \n",
      "2    0.00  \n",
      "3    0.00  \n",
      "4   -0.49  \n",
      "..    ...  \n",
      "372  0.00  \n",
      "373  0.00  \n",
      "374  0.00  \n",
      "375  0.00  \n",
      "376  0.00  \n",
      "\n",
      "[377 rows x 6 columns]\n"
     ]
    }
   ],
   "source": [
    "# Calculate the month-over-month percentage change for each user\n",
    "df_actions_merged['MoM%'] = df_actions_merged.groupby(['team_name', 'department_name', 'user_id'])['Total_Action_Count'].pct_change().fillna(0).round(2)\n",
    "\n",
    "print('Dataframe df_actions_merged columns:', list(df_actions_merged.columns))\n",
    "print(df_actions_merged)"
   ]
  },
  {
   "cell_type": "code",
   "execution_count": 18,
   "id": "de2cee13",
   "metadata": {
    "scrolled": true
   },
   "outputs": [
    {
     "name": "stdout",
     "output_type": "stream",
     "text": [
      "                                             Nov 2020_Action_Count  \\\n",
      "user_id team_name           department_name                          \n",
      "4003    The U               Sales                                0   \n",
      "4061    Team Sales - Jordan Sales                               27   \n",
      "4270    Team Sales - Jordan Sales                              203   \n",
      "4290    Team Sales - Jordan Sales                              182   \n",
      "4356    Team Sales - Jordan Sales                              298   \n",
      "...                                                            ...   \n",
      "6814    The U Boise         Sales                                0   \n",
      "6817    The U Boise         Sales                                0   \n",
      "6820    Boise Warriors      Sales                                0   \n",
      "6826    Boise Warriors      Sales                                0   \n",
      "6829    The U Boise         Sales                                0   \n",
      "\n",
      "                                             Dec 2020_Action_Count  MoM%  \n",
      "user_id team_name           department_name                               \n",
      "4003    The U               Sales                                1   N/A  \n",
      "4061    Team Sales - Jordan Sales                               39  0.44  \n",
      "4270    Team Sales - Jordan Sales                              241  0.19  \n",
      "4290    Team Sales - Jordan Sales                              194  0.07  \n",
      "4356    Team Sales - Jordan Sales                              295 -0.01  \n",
      "...                                                            ...   ...  \n",
      "6814    The U Boise         Sales                               95   N/A  \n",
      "6817    The U Boise         Sales                               69   N/A  \n",
      "6820    Boise Warriors      Sales                               30   N/A  \n",
      "6826    Boise Warriors      Sales                               72   N/A  \n",
      "6829    The U Boise         Sales                               43   N/A  \n",
      "\n",
      "[208 rows x 3 columns]\n"
     ]
    }
   ],
   "source": [
    "# Use df_actions_merged as the source table\n",
    "df_pivot = pd.pivot_table(df_actions_merged, values='Total_Action_Count', index=['user_id', 'team_name', 'department_name'],\n",
    "columns=['ins_ts'], aggfunc=sum, fill_value=0)\n",
    "\n",
    "# Rename columns to add the '_Total_Action_Count' suffix\n",
    "df_pivot.columns = [col.strftime('%b %Y') + '_Action_Count' for col in df_pivot.columns]\n",
    "\n",
    "# Calculate the MoM% for each month\n",
    "df_pivot['MoM%'] = ((df_pivot.iloc[:, 1] - df_pivot.iloc[:, 0]) / df_pivot.iloc[:, 0]).round(2)\n",
    "\n",
    "df_pivot['MoM%'] = df_pivot['MoM%'].replace([np.inf, -np.inf], np.nan).fillna(\"N/A\")\n",
    "\n",
    "# Sort the rows by user_id\n",
    "df_pivot.sort_values(by='user_id', inplace=True)\n",
    "\n",
    "print(df_pivot)"
   ]
  },
  {
   "cell_type": "code",
   "execution_count": 19,
   "id": "6a5de492",
   "metadata": {},
   "outputs": [],
   "source": [
    "df_pivot.reset_index(inplace=True)\n",
    "df_pivot.to_excel('C:/Users/valer/Projects/result_ex_1.xlsx', index=False)"
   ]
  },
  {
   "cell_type": "markdown",
   "id": "d5f7b3ab",
   "metadata": {},
   "source": [
    "<span style=\"font-size: 20px; font-weight:bold\">Exercise 2</span>"
   ]
  },
  {
   "cell_type": "code",
   "execution_count": 20,
   "id": "b404efbf",
   "metadata": {},
   "outputs": [
    {
     "name": "stdout",
     "output_type": "stream",
     "text": [
      "       log_id              ins_ts  user_id  customer_id  old_value  new_value  \\\n",
      "0  1217408899 2020-11-01 00:07:38     5910      1102636       15.0         41   \n",
      "1  1217413011 2020-11-01 00:16:29     5200      2312093       16.0         13   \n",
      "2  1217415671 2020-11-01 00:21:13     6361      2311203       16.0         13   \n",
      "3  1217433239 2020-11-01 01:22:01     5200      2312329        NaN          0   \n",
      "4  1217433377 2020-11-01 01:22:43     5200      2312329        0.0         16   \n",
      "\n",
      "  old_value_description new_value_description  \n",
      "0         Overdue Pitch       follow up pitch  \n",
      "1        Ready To Pitch             Docs Sent  \n",
      "2        Ready To Pitch             Docs Sent  \n",
      "3                   NaN              Lead New  \n",
      "4              Lead New        Ready To Pitch  \n"
     ]
    }
   ],
   "source": [
    "# Merge df_customer_action with df_crm_dictionary on condition \"crm_object_name\"=customer, crm_object_id\n",
    "\n",
    "df_customer_action = pd.merge(dfs['df_customer_action'], dfs['df_crm_dictionary'][dfs['df_crm_dictionary']['crm_object_name']=='customer'][['crm_object_id', 'crm_object_description']], how='left', left_on='old_value', right_on='crm_object_id').drop(columns=['crm_object_id'])\n",
    "df_customer_action = df_customer_action.rename(columns={'crm_object_description': 'old_value_description'})\n",
    "\n",
    "df_customer_action = pd.merge(df_customer_action, dfs['df_crm_dictionary'][dfs['df_crm_dictionary']['crm_object_name']=='customer'][['crm_object_id', 'crm_object_description']], how='left', left_on='new_value', right_on='crm_object_id').drop(columns=['crm_object_id'])\n",
    "df_customer_action = df_customer_action.rename(columns={'crm_object_description': 'new_value_description'})\n",
    "\n",
    "print(df_customer_action.head())"
   ]
  },
  {
   "cell_type": "code",
   "execution_count": 21,
   "id": "8dee6242",
   "metadata": {},
   "outputs": [
    {
     "name": "stdout",
     "output_type": "stream",
     "text": [
      "       log_id              ins_ts  user_id  customer_creditor_id  old_value  \\\n",
      "0  1217434655 2020-11-01 01:34:09     5200              17841703        NaN   \n",
      "1  1217434711 2020-11-01 01:34:09     5200              17841705        NaN   \n",
      "2  1217434773 2020-11-01 01:34:09     5200              17841707        NaN   \n",
      "3  1217434835 2020-11-01 01:34:09     5200              17841709        NaN   \n",
      "4  1217434891 2020-11-01 01:34:09     5200              17841711        NaN   \n",
      "\n",
      "   new_value old_value_description new_value_description  \n",
      "0        0.0                   NaN           Not Started  \n",
      "1        0.0                   NaN           Not Started  \n",
      "2        0.0                   NaN           Not Started  \n",
      "3        0.0                   NaN           Not Started  \n",
      "4        0.0                   NaN           Not Started  \n"
     ]
    }
   ],
   "source": [
    "# Merge df_customer_creditor_action with df_crm_dictionary on condition \"crm_object_name\"=customer_creditor, crm_object_id\n",
    "\n",
    "df_customer_creditor_action = pd.merge(dfs['df_customer_creditor_action'], dfs['df_crm_dictionary'][dfs['df_crm_dictionary']['crm_object_name']=='customer_creditor'][['crm_object_id', 'crm_object_description']], how='left', left_on='old_value', right_on='crm_object_id').drop(columns=['crm_object_id'])\n",
    "df_customer_creditor_action = df_customer_creditor_action.rename(columns={'crm_object_description': 'old_value_description'})\n",
    "\n",
    "df_customer_creditor_action = pd.merge(df_customer_creditor_action, dfs['df_crm_dictionary'][dfs['df_crm_dictionary']['crm_object_name']=='customer_creditor'][['crm_object_id', 'crm_object_description']], how='left', left_on='new_value', right_on='crm_object_id').drop(columns=['crm_object_id'])\n",
    "df_customer_creditor_action = df_customer_creditor_action.rename(columns={'crm_object_description': 'new_value_description'})\n",
    "\n",
    "print(df_customer_creditor_action.head())"
   ]
  },
  {
   "cell_type": "code",
   "execution_count": 22,
   "id": "3bceeac1",
   "metadata": {},
   "outputs": [
    {
     "name": "stdout",
     "output_type": "stream",
     "text": [
      "Dataframe df_customer_action columns: ['log_id', 'ins_ts', 'user_id', 'customer_id', 'old_value', 'new_value', 'old_value_description', 'new_value_description', 'team_id', 'team_name', 'department_id', 'department_name']\n",
      "Dataframe df_customer_creditor_action columns: ['log_id', 'ins_ts', 'user_id', 'customer_creditor_id', 'old_value', 'new_value', 'old_value_description', 'new_value_description', 'team_id', 'team_name', 'department_id', 'department_name']\n"
     ]
    }
   ],
   "source": [
    "# Merge df_user_team_department with df_customer_action and df_customer_creditor_action on user_id\n",
    "df_customer_action = df_customer_action.merge(df_user_team_department, on='user_id')\n",
    "df_customer_creditor_action = df_customer_creditor_action.merge(df_user_team_department, on='user_id')\n",
    "\n",
    "print('Dataframe df_customer_action columns:', list(df_customer_action.columns))\n",
    "print('Dataframe df_customer_creditor_action columns:', list(df_customer_creditor_action.columns))"
   ]
  },
  {
   "cell_type": "code",
   "execution_count": 23,
   "id": "d13e3fd6",
   "metadata": {},
   "outputs": [],
   "source": [
    "df_customer_action = df_customer_action.loc[:, ['log_id', 'ins_ts', 'user_id', 'old_value_description', 'new_value_description', 'department_name']]\n",
    "df_customer_creditor_action = df_customer_creditor_action.loc[:, ['log_id', 'ins_ts', 'user_id', 'old_value_description', 'new_value_description', 'department_name']]\n"
   ]
  },
  {
   "cell_type": "code",
   "execution_count": 24,
   "id": "577a1d26",
   "metadata": {},
   "outputs": [],
   "source": [
    "# Add \"month\"\n",
    "df_customer_action['month'] = pd.to_datetime(df_customer_action['ins_ts']).dt.to_period('M')\n",
    "df_customer_creditor_action['month'] = pd.to_datetime(df_customer_creditor_action['ins_ts']).dt.to_period('M')"
   ]
  },
  {
   "cell_type": "code",
   "execution_count": 25,
   "id": "22c87999",
   "metadata": {},
   "outputs": [],
   "source": [
    "# Grouping data by department, month\n",
    "grouped_action = df_customer_action.groupby(['department_name', 'month', 'old_value_description', 'new_value_description']).size().reset_index(name='count')\n",
    "grouped_creditor_action = df_customer_creditor_action.groupby(['department_name', 'month', 'old_value_description', 'new_value_description']).size().reset_index(name='count')"
   ]
  },
  {
   "cell_type": "code",
   "execution_count": 26,
   "id": "4deb93f2",
   "metadata": {},
   "outputs": [],
   "source": [
    "# Calculate top 3 changes for each department and month\n",
    "top3_action = grouped_action.groupby(['department_name', 'month']).apply(lambda x: x.nlargest(3, 'count')).reset_index(drop=True)\n",
    "top3_creditor_action = grouped_creditor_action.groupby(['department_name', 'month']).apply(lambda x: x.nlargest(3, 'count')).reset_index(drop=True)"
   ]
  },
  {
   "cell_type": "code",
   "execution_count": 27,
   "id": "b6eddf4b",
   "metadata": {},
   "outputs": [
    {
     "name": "stdout",
     "output_type": "stream",
     "text": [
      "             department_name    month old_value_description  \\\n",
      "0           Customer Service  2020-11      Client Relations   \n",
      "1           Customer Service  2020-11                Active   \n",
      "2           Customer Service  2020-11      Client Relations   \n",
      "3           Customer Service  2020-12      Client Relations   \n",
      "4           Customer Service  2020-12                Active   \n",
      "5           Customer Service  2020-12      Nsf Unresponsive   \n",
      "6                Enrollments  2020-11              Deal New   \n",
      "7                Enrollments  2020-11                   Nsf   \n",
      "8                Enrollments  2020-11      Nsf Unresponsive   \n",
      "9                Enrollments  2020-12              Deal New   \n",
      "10               Enrollments  2020-12                   Nsf   \n",
      "11               Enrollments  2020-12      Nsf Unresponsive   \n",
      "12              Negotiations  2020-11                   Nsf   \n",
      "13              Negotiations  2020-11      Nsf Unresponsive   \n",
      "14              Negotiations  2020-11                   Nsf   \n",
      "15              Negotiations  2020-12                   Nsf   \n",
      "16              Negotiations  2020-12      Nsf Unresponsive   \n",
      "17              Negotiations  2020-12      Nsf Unresponsive   \n",
      "18  Payment Processors (RAM)  2020-11     Pending Completed   \n",
      "19  Payment Processors (RAM)  2020-11                Active   \n",
      "20  Payment Processors (RAM)  2020-11                Active   \n",
      "21  Payment Processors (RAM)  2020-12                Active   \n",
      "22  Payment Processors (RAM)  2020-12              Deal New   \n",
      "23  Payment Processors (RAM)  2020-12     Pending Completed   \n",
      "24                     Sales  2020-11        Ready To Pitch   \n",
      "25                     Sales  2020-11              Lead New   \n",
      "26                     Sales  2020-11            Automation   \n",
      "27                     Sales  2020-12        Ready To Pitch   \n",
      "28                     Sales  2020-12              Lead New   \n",
      "29                     Sales  2020-12            Automation   \n",
      "\n",
      "    new_value_description  count  \n",
      "0               Cancelled   1184  \n",
      "1        Client Relations    651  \n",
      "2                  Active    509  \n",
      "3               Cancelled   1150  \n",
      "4        Client Relations    659  \n",
      "5                  Active    549  \n",
      "6   Waiting First Payment   2923  \n",
      "7        Nsf Unresponsive    802  \n",
      "8                  Active    375  \n",
      "9   Waiting First Payment   2601  \n",
      "10       Nsf Unresponsive   1149  \n",
      "11                 Active    462  \n",
      "12       Nsf Unresponsive    179  \n",
      "13                 Active     40  \n",
      "14                 Active     34  \n",
      "15       Nsf Unresponsive    280  \n",
      "16                 Active     64  \n",
      "17       Client Relations     47  \n",
      "18              Completed    156  \n",
      "19      Pending Completed    149  \n",
      "20       Client Relations     19  \n",
      "21      Pending Completed    155  \n",
      "22  Waiting First Payment    128  \n",
      "23              Completed     72  \n",
      "24               Nurtured   6877  \n",
      "25         Ready To Pitch   6143  \n",
      "26         Ready To Pitch   5557  \n",
      "27               Nurtured   5550  \n",
      "28         Ready To Pitch   4701  \n",
      "29         Ready To Pitch   4416  \n",
      "Dataframe top3_action columns: ['department_name', 'month', 'old_value_description', 'new_value_description', 'count']\n"
     ]
    }
   ],
   "source": [
    "print(top3_action)\n",
    "print('Dataframe top3_action columns:', list(top3_action.columns))"
   ]
  },
  {
   "cell_type": "code",
   "execution_count": 28,
   "id": "327d7a33",
   "metadata": {},
   "outputs": [],
   "source": [
    "# Make a copy of the dataframes\n",
    "top3_action_copy = top3_action.copy()\n",
    "top3_creditor_action_copy = top3_creditor_action.copy()\n",
    "\n",
    "# Sort the copy by department and month in ascending order\n",
    "top3_action_copy = top3_action_copy.sort_values(['department_name', 'month'])\n",
    "top3_creditor_action_copy = top3_creditor_action_copy.sort_values(['department_name', 'month'])\n"
   ]
  },
  {
   "cell_type": "code",
   "execution_count": 29,
   "id": "e315c1e7",
   "metadata": {},
   "outputs": [],
   "source": [
    "# Calculate MoM% for each department and month using pct_change()\n",
    "top3_action_copy['MoM%'] = top3_action_copy.groupby('department_name')['count'].pct_change().round(2)\n",
    "top3_creditor_action_copy['MoM%'] = top3_creditor_action_copy.groupby('department_name')['count'].pct_change().round(2)\n"
   ]
  },
  {
   "cell_type": "code",
   "execution_count": 30,
   "id": "ab02a9e8",
   "metadata": {},
   "outputs": [
    {
     "name": "stdout",
     "output_type": "stream",
     "text": [
      "Top 3 changes for customer actions:\n",
      "             department_name    month old_value_description  \\\n",
      "0           Customer Service  2020-11      Client Relations   \n",
      "1           Customer Service  2020-11                Active   \n",
      "2           Customer Service  2020-11      Client Relations   \n",
      "3           Customer Service  2020-12      Client Relations   \n",
      "4           Customer Service  2020-12                Active   \n",
      "5           Customer Service  2020-12      Nsf Unresponsive   \n",
      "6                Enrollments  2020-11              Deal New   \n",
      "7                Enrollments  2020-11                   Nsf   \n",
      "8                Enrollments  2020-11      Nsf Unresponsive   \n",
      "9                Enrollments  2020-12              Deal New   \n",
      "10               Enrollments  2020-12                   Nsf   \n",
      "11               Enrollments  2020-12      Nsf Unresponsive   \n",
      "12              Negotiations  2020-11                   Nsf   \n",
      "13              Negotiations  2020-11      Nsf Unresponsive   \n",
      "14              Negotiations  2020-11                   Nsf   \n",
      "15              Negotiations  2020-12                   Nsf   \n",
      "16              Negotiations  2020-12      Nsf Unresponsive   \n",
      "17              Negotiations  2020-12      Nsf Unresponsive   \n",
      "18  Payment Processors (RAM)  2020-11     Pending Completed   \n",
      "19  Payment Processors (RAM)  2020-11                Active   \n",
      "20  Payment Processors (RAM)  2020-11                Active   \n",
      "21  Payment Processors (RAM)  2020-12                Active   \n",
      "22  Payment Processors (RAM)  2020-12              Deal New   \n",
      "23  Payment Processors (RAM)  2020-12     Pending Completed   \n",
      "24                     Sales  2020-11        Ready To Pitch   \n",
      "25                     Sales  2020-11              Lead New   \n",
      "26                     Sales  2020-11            Automation   \n",
      "27                     Sales  2020-12        Ready To Pitch   \n",
      "28                     Sales  2020-12              Lead New   \n",
      "29                     Sales  2020-12            Automation   \n",
      "\n",
      "    new_value_description  count  MoM%  \n",
      "0               Cancelled   1184   NaN  \n",
      "1        Client Relations    651 -0.45  \n",
      "2                  Active    509 -0.22  \n",
      "3               Cancelled   1150  1.26  \n",
      "4        Client Relations    659 -0.43  \n",
      "5                  Active    549 -0.17  \n",
      "6   Waiting First Payment   2923   NaN  \n",
      "7        Nsf Unresponsive    802 -0.73  \n",
      "8                  Active    375 -0.53  \n",
      "9   Waiting First Payment   2601  5.94  \n",
      "10       Nsf Unresponsive   1149 -0.56  \n",
      "11                 Active    462 -0.60  \n",
      "12       Nsf Unresponsive    179   NaN  \n",
      "13                 Active     40 -0.78  \n",
      "14                 Active     34 -0.15  \n",
      "15       Nsf Unresponsive    280  7.24  \n",
      "16                 Active     64 -0.77  \n",
      "17       Client Relations     47 -0.27  \n",
      "18              Completed    156   NaN  \n",
      "19      Pending Completed    149 -0.04  \n",
      "20       Client Relations     19 -0.87  \n",
      "21      Pending Completed    155  7.16  \n",
      "22  Waiting First Payment    128 -0.17  \n",
      "23              Completed     72 -0.44  \n",
      "24               Nurtured   6877   NaN  \n",
      "25         Ready To Pitch   6143 -0.11  \n",
      "26         Ready To Pitch   5557 -0.10  \n",
      "27               Nurtured   5550 -0.00  \n",
      "28         Ready To Pitch   4701 -0.15  \n",
      "29         Ready To Pitch   4416 -0.06  \n",
      "\n",
      "Top 3 changes for creditor actions:\n",
      "             department_name    month       old_value_description  \\\n",
      "0           Customer Service  2020-11                    Poa Sent   \n",
      "1           Customer Service  2020-11                 Not Started   \n",
      "2           Customer Service  2020-11                 In Progress   \n",
      "3           Customer Service  2020-12                    Poa Sent   \n",
      "4           Customer Service  2020-12                 Not Started   \n",
      "5           Customer Service  2020-12                 In Progress   \n",
      "6                Enrollments  2020-11                 Not Started   \n",
      "7                Enrollments  2020-11                    Poa Sent   \n",
      "8                Enrollments  2020-11            Summons Received   \n",
      "9                Enrollments  2020-12                 Not Started   \n",
      "10               Enrollments  2020-12                    Poa Sent   \n",
      "11               Enrollments  2020-12            Summons Received   \n",
      "12              Negotiations  2020-11                    Poa Sent   \n",
      "13              Negotiations  2020-11                 Not Started   \n",
      "14              Negotiations  2020-11                 Not Started   \n",
      "15              Negotiations  2020-12                    Poa Sent   \n",
      "16              Negotiations  2020-12                 Not Started   \n",
      "17              Negotiations  2020-12                 Not Started   \n",
      "18  Payment Processors (RAM)  2020-11                     Settled   \n",
      "19  Payment Processors (RAM)  2020-11                     Settled   \n",
      "20  Payment Processors (RAM)  2020-11  NE2020 - Potential Default   \n",
      "21  Payment Processors (RAM)  2020-12                     Settled   \n",
      "22  Payment Processors (RAM)  2020-12                     Settled   \n",
      "23  Payment Processors (RAM)  2020-12  NE2020 - Potential Default   \n",
      "\n",
      "           new_value_description  count   MoM%  \n",
      "0                    Collections    887    NaN  \n",
      "1                    Collections    502  -0.43  \n",
      "2                    Collections     45  -0.91  \n",
      "3                    Collections   1158  24.73  \n",
      "4                    Collections    766  -0.34  \n",
      "5                    Collections     42  -0.95  \n",
      "6           Removed From Program    478    NaN  \n",
      "7           Removed From Program    104  -0.78  \n",
      "8           Removed From Program     51  -0.51  \n",
      "9           Removed From Program    509   8.98  \n",
      "10          Removed From Program    119  -0.77  \n",
      "11          Removed From Program     71  -0.40  \n",
      "12                       Settled   3929    NaN  \n",
      "13                       Settled   3117  -0.21  \n",
      "14                      Poa Sent   1407  -0.55  \n",
      "15                       Settled   4156   1.95  \n",
      "16                       Settled   3007  -0.28  \n",
      "17                      Poa Sent   1409  -0.53  \n",
      "18  Defaulted Settlement Working    339    NaN  \n",
      "19    NE2020 - Potential Default    155  -0.54  \n",
      "20       Defaulted Due to NE2020     75  -0.52  \n",
      "21  Defaulted Settlement Working    350   3.67  \n",
      "22    NE2020 - Potential Default    156  -0.55  \n",
      "23       Defaulted Due to NE2020     79  -0.49  \n"
     ]
    }
   ],
   "source": [
    "# Print the result\n",
    "print(\"Top 3 changes for customer actions:\")\n",
    "print(top3_action_copy)\n",
    "print(\"\\nTop 3 changes for creditor actions:\")\n",
    "print(top3_creditor_action_copy)"
   ]
  },
  {
   "cell_type": "code",
   "execution_count": 31,
   "id": "29850cf1",
   "metadata": {},
   "outputs": [],
   "source": [
    "# Save the dataframes to separate sheets in the Excel file\n",
    "writer = pd.ExcelWriter('C:/Users/valer/Projects/result_ex_2.xlsx', engine='xlsxwriter')\n",
    "\n",
    "top3_action_copy.to_excel(writer, sheet_name='top3_customer_action', index=False)\n",
    "top3_creditor_action_copy.to_excel(writer, sheet_name='top3_customer_creditor_action', index=False)\n",
    "writer.save()"
   ]
  },
  {
   "cell_type": "markdown",
   "id": "16752ce5",
   "metadata": {},
   "source": [
    "<span style=\"font-size: 20px; font-weight:bold\">Exercise 3</span>"
   ]
  },
  {
   "cell_type": "code",
   "execution_count": 32,
   "id": "9f24b5e0",
   "metadata": {},
   "outputs": [
    {
     "name": "stdout",
     "output_type": "stream",
     "text": [
      "           log_id              ins_ts  user_id  customer_id  old_value  \\\n",
      "2160   1219714869 2020-11-02 19:56:47     4462      2318629        0.0   \n",
      "2195   1219770091 2020-11-02 20:08:11     4462      1258951       18.0   \n",
      "2757   1220360995 2020-11-02 21:59:17     4462      2310763       22.0   \n",
      "2768   1220371277 2020-11-02 22:01:07     4462      1446667       41.0   \n",
      "2826   1220408443 2020-11-02 22:10:04     4462      2319817       22.0   \n",
      "...           ...                 ...      ...          ...        ...   \n",
      "90163  1351051525 2020-12-11 02:01:10     4462      2483188       16.0   \n",
      "90477  1351619767 2020-12-11 15:47:56     4462      2462731       16.0   \n",
      "90482  1351621540 2020-12-11 15:48:23     4462      2498425       16.0   \n",
      "90495  1351633807 2020-12-11 15:52:07     4462      2501575       16.0   \n",
      "90984  1352376364 2020-12-11 17:30:11     4462      2485729       18.0   \n",
      "\n",
      "       new_value  \n",
      "2160          16  \n",
      "2195          16  \n",
      "2757          16  \n",
      "2768           3  \n",
      "2826          16  \n",
      "...          ...  \n",
      "90163         41  \n",
      "90477         41  \n",
      "90482          3  \n",
      "90495         41  \n",
      "90984         16  \n",
      "\n",
      "[617 rows x 6 columns]\n"
     ]
    }
   ],
   "source": [
    "# filter customer_action table to get actions of staff member 4462 as of the given date 12/14/2020\n",
    "df_staff_actions = dfs['df_customer_action'][(dfs['df_customer_action'].user_id == 4462) & (dfs['df_customer_action'].ins_ts <= '2020-12-14')]\n",
    "\n",
    "print(df_staff_actions)"
   ]
  },
  {
   "cell_type": "code",
   "execution_count": 33,
   "id": "83e6250a",
   "metadata": {},
   "outputs": [
    {
     "name": "stdout",
     "output_type": "stream",
     "text": [
      "              change_date  new_value\n",
      "90984 2020-12-11 17:30:11         16\n",
      "90495 2020-12-11 15:52:07         41\n",
      "90482 2020-12-11 15:48:23          3\n"
     ]
    }
   ],
   "source": [
    "# sort the actions by descending date and keep the top 3 most recent client statuses\n",
    "df_top_3_statuses = df_staff_actions.sort_values('ins_ts', ascending=False).head(3)[['ins_ts', 'new_value']]\n",
    "df_top_3_statuses = df_top_3_statuses.rename(columns={'ins_ts': 'change_date'})\n",
    "\n",
    "print(df_top_3_statuses)"
   ]
  },
  {
   "cell_type": "code",
   "execution_count": 34,
   "id": "151f2599",
   "metadata": {},
   "outputs": [
    {
     "name": "stdout",
     "output_type": "stream",
     "text": [
      "   new_value  count\n",
      "0         16    252\n",
      "1          3    144\n",
      "2         41    130\n",
      "3          0     54\n",
      "4         13     34\n",
      "5          4      2\n",
      "6         17      1\n"
     ]
    }
   ],
   "source": [
    "# count the number of occurrences of each statuses\n",
    "counts = df_staff_actions['new_value'].value_counts(normalize=False).reset_index()\n",
    "counts.columns = ['new_value', 'count']\n",
    "print(counts)"
   ]
  },
  {
   "cell_type": "code",
   "execution_count": 35,
   "id": "d7883d2f",
   "metadata": {},
   "outputs": [
    {
     "name": "stdout",
     "output_type": "stream",
     "text": [
      "          change_date  new_value  count\n",
      "0 2020-12-11 17:30:11         16    252\n",
      "1 2020-12-11 15:52:07         41    130\n",
      "2 2020-12-11 15:48:23          3    144\n"
     ]
    }
   ],
   "source": [
    "# Add Count \n",
    "df_top_3_statuses = df_top_3_statuses.merge(counts, on='new_value')\n",
    "print(df_top_3_statuses)"
   ]
  },
  {
   "cell_type": "code",
   "execution_count": 36,
   "id": "ff2fc6d1",
   "metadata": {},
   "outputs": [
    {
     "name": "stdout",
     "output_type": "stream",
     "text": [
      "          change_date        new_value  count\n",
      "0 2020-12-11 17:30:11   Ready To Pitch    252\n",
      "1 2020-12-11 15:52:07  follow up pitch    130\n",
      "2 2020-12-11 15:48:23         Nurtured    144\n"
     ]
    }
   ],
   "source": [
    "# Replace new_value with status title crm_object_description\n",
    "merged_df = df_top_3_statuses.merge(dfs['df_crm_dictionary'][dfs['df_crm_dictionary']['crm_object_name'] == 'customer'], left_on='new_value', right_on='crm_object_id')\n",
    "df_top_3_statuses['new_value'] = merged_df['crm_object_description'].values\n",
    "\n",
    "df_top_3_statuses = df_top_3_statuses.reset_index(drop=True)\n",
    "\n",
    "print(df_top_3_statuses)"
   ]
  },
  {
   "cell_type": "code",
   "execution_count": 39,
   "id": "8669215f",
   "metadata": {},
   "outputs": [
    {
     "data": {
      "image/png": "[encoded data removed]",
      "text/plain": [
       "<Figure size 432x288 with 1 Axes>"
      ]
     },
     "metadata": {
      "needs_background": "light"
     },
     "output_type": "display_data"
    }
   ],
   "source": [
    "# sort the data in descending order\n",
    "df_top_3_statuses_sorted = df_top_3_statuses.sort_values(by='count', ascending=False)\n",
    "\n",
    "# create a bar chart\n",
    "plt.bar(df_top_3_statuses_sorted['new_value'], df_top_3_statuses_sorted['count'], color='green', width=0.5)\n",
    "\n",
    "# set the title and labels\n",
    "plt.title('Top 3 Most Recent Client Statuses for User 4462 (as of 12/14/2020)', fontdict={'fontsize': 11, 'fontweight': 'bold'})\n",
    "plt.xlabel('Client Status')\n",
    "plt.ylabel('Count')\n",
    "\n",
    "# set the y-axis limit\n",
    "plt.ylim([0, 300])\n",
    "\n",
    "# add labels to each column\n",
    "for i, v in enumerate(df_top_3_statuses_sorted['count']):\n",
    "    plt.text(i, v+6, str(v), ha='center')\n",
    "\n",
    "# display the chart and save pic\n",
    "plt.savefig('C:/Users/valer/Projects/chart_ex3.png', bbox_inches='tight')\n",
    "plt.show()"
   ]
  },
  {
   "cell_type": "code",
   "execution_count": 40,
   "id": "8c75da9a",
   "metadata": {},
   "outputs": [],
   "source": [
    "# save the dataframe and insert the chart image\n",
    "with pd.ExcelWriter('C:/Users/valer/Projects/result_ex_3.xlsx') as writer:\n",
    "    df_top_3_statuses_sorted.to_excel(writer, sheet_name='Sheet1', index=False)\n",
    "    worksheet = writer.sheets['Sheet1']\n",
    "    worksheet.insert_image('E2', 'C:/Users/valer/Projects/chart_ex3.png')"
   ]
  },
  {
   "cell_type": "markdown",
   "id": "a89fef7c",
   "metadata": {},
   "source": [
    "<span style=\"font-size: 20px; font-weight:bold\">Exercise 4</span>"
   ]
  },
  {
   "cell_type": "code",
   "execution_count": 41,
   "id": "29447100",
   "metadata": {},
   "outputs": [],
   "source": [
    "# Create a new column date in DataFrame df_user_team that will contain only the date from the updated_at column.\n",
    "dfs['df_user_team']['date'] = pd.to_datetime(dfs['df_user_team']['updated_at']).dt.date"
   ]
  },
  {
   "cell_type": "code",
   "execution_count": 42,
   "id": "a599ba3a",
   "metadata": {},
   "outputs": [
    {
     "name": "stdout",
     "output_type": "stream",
     "text": [
      "     user_id  team_id          updated_at   id        date\n",
      "0       4694       11                 NaT    1         NaN\n",
      "1       4795       11                 NaT    2         NaN\n",
      "2       4628       11                 NaT    3         NaN\n",
      "3       4863       11                 NaT    4         NaN\n",
      "4       4662       15                 NaT    5         NaN\n",
      "..       ...      ...                 ...  ...         ...\n",
      "239     5753       11 2019-12-12 18:18:13  323  2019-12-12\n",
      "240     5765        3 2019-12-12 18:21:31  325  2019-12-12\n",
      "241     5735        3 2019-12-12 18:21:31  326  2019-12-12\n",
      "242     5758       47 2019-12-12 18:22:52  327  2019-12-12\n",
      "243     5741       47 2019-12-12 18:22:52  328  2019-12-12\n",
      "\n",
      "[244 rows x 5 columns]\n"
     ]
    }
   ],
   "source": [
    "# Filter the rows in DataFrame df_user_team to keep only the team changes made before 12/14/2019 or empty\n",
    "user_team_before_dec14 = dfs['df_user_team'][(dfs['df_user_team']['date'] <= pd.to_datetime('2019-12-14').date()) | (dfs['df_user_team']['updated_at'].isnull())]\n",
    "print(user_team_before_dec14)"
   ]
  },
  {
   "cell_type": "code",
   "execution_count": 43,
   "id": "565b8165",
   "metadata": {},
   "outputs": [
    {
     "name": "stdout",
     "output_type": "stream",
     "text": [
      "Dataframe user_team_before_dec14 columns: ['user_id', 'team_id', 'updated_at', 'id', 'date']\n"
     ]
    }
   ],
   "source": [
    "print('Dataframe user_team_before_dec14 columns:', list(user_team_before_dec14.columns))"
   ]
  },
  {
   "cell_type": "code",
   "execution_count": 44,
   "id": "33981452",
   "metadata": {},
   "outputs": [
    {
     "name": "stdout",
     "output_type": "stream",
     "text": [
      "    id                        name  department_id          updated_at\n",
      "0    2                       The U            1.0 2020-02-13 19:12:06\n",
      "1    3         Team Sales - Jordan            1.0 2020-12-02 15:19:16\n",
      "4   11             Team Sales- Joe            1.0 2020-10-16 22:06:28\n",
      "10  19     Team Consistency - Omar            1.0 2021-03-10 19:57:10\n",
      "15  24                   Team Andy            1.0 2019-10-09 16:46:25\n",
      "16  26                   Team Mike            1.0 2019-03-01 19:10:36\n",
      "17  27                  Team Katie            1.0 2019-04-09 20:36:04\n",
      "18  28     Team One Percent - Ford            1.0 2020-10-16 22:30:07\n",
      "19  33                       The U            1.0 2021-05-12 00:07:58\n",
      "22  41                 The U Boise            1.0 2020-12-05 00:12:33\n",
      "26  45              Openers Mexico            1.0 2019-09-05 19:26:45\n",
      "28  47  Team Closers Club - Joseph            1.0 2020-10-16 22:32:21\n",
      "30  50              Boise Warriors            1.0 2020-12-05 00:13:13\n",
      "45  73           Team Quest- Chris            1.0 2020-10-16 22:34:25\n"
     ]
    }
   ],
   "source": [
    "# Find sales teams (department Sales)\n",
    "sales_teams = dfs['df_team'].loc[dfs['df_team']['department_id'] == 1]\n",
    "print(sales_teams)"
   ]
  },
  {
   "cell_type": "code",
   "execution_count": 45,
   "id": "0f4e2bea",
   "metadata": {},
   "outputs": [
    {
     "name": "stdout",
     "output_type": "stream",
     "text": [
      "     user_id  team_id        updated_at_x  id_x        date  id_y  \\\n",
      "0       4694       11                 NaT     1         NaT    11   \n",
      "1       4795       11                 NaT     2         NaT    11   \n",
      "2       4628       11                 NaT     3         NaT    11   \n",
      "3       4863       11                 NaT     4         NaT    11   \n",
      "4       5117       11                 NaT    31         NaT    11   \n",
      "..       ...      ...                 ...   ...         ...   ...   \n",
      "205     5651       24 2019-10-14 17:16:56   221  2019-10-14    24   \n",
      "206     5714       24 2019-11-12 17:24:02   264  2019-11-12    24   \n",
      "207     5709       24 2019-11-12 17:24:44   265  2019-11-12    24   \n",
      "208     5779       24 2019-12-09 17:28:00   298  2019-12-09    24   \n",
      "209     5777       24 2019-12-09 17:28:11   299  2019-12-09    24   \n",
      "\n",
      "                name  department_id        updated_at_y  \n",
      "0    Team Sales- Joe            1.0 2020-10-16 22:06:28  \n",
      "1    Team Sales- Joe            1.0 2020-10-16 22:06:28  \n",
      "2    Team Sales- Joe            1.0 2020-10-16 22:06:28  \n",
      "3    Team Sales- Joe            1.0 2020-10-16 22:06:28  \n",
      "4    Team Sales- Joe            1.0 2020-10-16 22:06:28  \n",
      "..               ...            ...                 ...  \n",
      "205        Team Andy            1.0 2019-10-09 16:46:25  \n",
      "206        Team Andy            1.0 2019-10-09 16:46:25  \n",
      "207        Team Andy            1.0 2019-10-09 16:46:25  \n",
      "208        Team Andy            1.0 2019-10-09 16:46:25  \n",
      "209        Team Andy            1.0 2019-10-09 16:46:25  \n",
      "\n",
      "[210 rows x 9 columns]\n"
     ]
    }
   ],
   "source": [
    "# Get the user to sales team mapping\n",
    "sales_team_members = pd.merge(user_team_before_dec14, sales_teams, left_on='team_id', right_on='id')\n",
    "print(sales_team_members)"
   ]
  },
  {
   "cell_type": "code",
   "execution_count": 46,
   "id": "e1f2afbc",
   "metadata": {},
   "outputs": [
    {
     "name": "stdout",
     "output_type": "stream",
     "text": [
      "                    Sales Team  Headcount\n",
      "0               Openers Mexico         27\n",
      "1      Team Consistency - Omar         25\n",
      "2      Team One Percent - Ford         23\n",
      "3          Team Sales - Jordan         23\n",
      "4              Team Sales- Joe         23\n",
      "5   Team Closers Club - Joseph         21\n",
      "6                    Team Mike         21\n",
      "7                        The U         12\n",
      "8                   Team Katie         11\n",
      "9                    Team Andy          9\n",
      "10              Boise Warriors          8\n",
      "11                 The U Boise          7\n"
     ]
    }
   ],
   "source": [
    "# Calculate headcount of each sales team by grouping on name column and counting unique user_id values\n",
    "\n",
    "headcount = sales_team_members.groupby('name')['user_id'].nunique()\n",
    "headcount = headcount.sort_values(ascending=False).reset_index().rename(columns={'name': 'Sales Team', 'user_id': 'Headcount'})\n",
    "print(headcount)"
   ]
  },
  {
   "cell_type": "code",
   "execution_count": 47,
   "id": "6e657a32",
   "metadata": {},
   "outputs": [
    {
     "data": {
      "image/png": "[encoded data removed]",
      "text/plain": [
       "<Figure size 432x288 with 1 Axes>"
      ]
     },
     "metadata": {
      "needs_background": "light"
     },
     "output_type": "display_data"
    }
   ],
   "source": [
    "import matplotlib.pyplot as plt\n",
    "\n",
    "# sort the data in ascending order\n",
    "headcount_sorted = headcount.sort_values(by='Headcount', ascending=True)\n",
    "\n",
    "# create a horizontal bar chart\n",
    "plt.barh(headcount_sorted['Sales Team'], headcount_sorted['Headcount'])\n",
    "\n",
    "# set the title and labels\n",
    "plt.title('Sales Team Headcount (as of 12/14/2019)', fontdict={'fontsize': 11, 'fontweight': 'bold'})\n",
    "plt.xlabel('Headcount')\n",
    "plt.ylabel('Sales Team')\n",
    "\n",
    "# set the x-axis limit\n",
    "plt.xlim([0, 30])\n",
    "\n",
    "# add labels to each column\n",
    "for i, v in enumerate(headcount_sorted['Headcount']):\n",
    "    plt.text(v+1, i, str(v), va='center')\n",
    "\n",
    "# display the chart and save pic\n",
    "plt.savefig('C:/Users/valer/Projects/chart_ex4.png', bbox_inches='tight')\n",
    "plt.show()"
   ]
  },
  {
   "cell_type": "code",
   "execution_count": 48,
   "id": "f8627fc6",
   "metadata": {},
   "outputs": [],
   "source": [
    "# save the dataframe and insert the chart image\n",
    "with pd.ExcelWriter('C:/Users/valer/Projects/result_ex_4.xlsx') as writer:\n",
    "    headcount_sorted.to_excel(writer, sheet_name='Sheet1', index=False)\n",
    "    worksheet = writer.sheets['Sheet1']\n",
    "    worksheet.insert_image('E2', 'C:/Users/valer/Projects/chart_ex4.png')"
   ]
  },
  {
   "cell_type": "markdown",
   "id": "50d7aed4",
   "metadata": {},
   "source": [
    "<span style=\"font-size: 16px; font-weight:bold\">Write the results in a google sheet with the API </span>\n"
   ]
  },
  {
   "cell_type": "code",
   "execution_count": 49,
   "id": "afe2c3ad",
   "metadata": {
    "scrolled": true
   },
   "outputs": [
    {
     "name": "stdout",
     "output_type": "stream",
     "text": [
      "    id                  Sales Team  Headcount\n",
      "0    1              Openers Mexico         27\n",
      "1    2     Team Consistency - Omar         25\n",
      "2    3     Team One Percent - Ford         23\n",
      "3    4         Team Sales - Jordan         23\n",
      "4    5             Team Sales- Joe         23\n",
      "5    6  Team Closers Club - Joseph         21\n",
      "6    7                   Team Mike         21\n",
      "7    8                       The U         12\n",
      "8    9                  Team Katie         11\n",
      "9   10                   Team Andy          9\n",
      "10  11              Boise Warriors          8\n",
      "11  12                 The U Boise          7\n"
     ]
    }
   ],
   "source": [
    "# Data frame conversion\n",
    "df_headcount = pd.DataFrame({'id': range(1, len(headcount) + 1),\n",
    "                   'Sales Team': headcount['Sales Team'],\n",
    "                   'Headcount': headcount['Headcount']})\n",
    "print(df_headcount)"
   ]
  },
  {
   "cell_type": "code",
   "execution_count": 50,
   "id": "12dd5cc4",
   "metadata": {},
   "outputs": [],
   "source": [
    "# Define the range where we want to write the data\n",
    "range_name = 'A2:C{}'.format(len(headcount) + 2)"
   ]
  },
  {
   "cell_type": "code",
   "execution_count": 51,
   "id": "62069f39",
   "metadata": {},
   "outputs": [],
   "source": [
    "# Create a list of lists containing the data\n",
    "data = [['id', 'Sales Team', 'Headcount']] + df_headcount.reset_index(drop=True).values.tolist()"
   ]
  },
  {
   "cell_type": "code",
   "execution_count": 52,
   "id": "bf9d6e3a",
   "metadata": {},
   "outputs": [],
   "source": [
    "# Define the credentials and scope for the Google Sheets API\n",
    "scope = ['https://www.googleapis.com/auth/spreadsheets',\n",
    "            'https://spreadsheets.google.com/feeds',\n",
    "             'https://www.googleapis.com/auth/drive']\n",
    "creds = ServiceAccountCredentials.from_json_keyfile_name('C:/Users/valer/Projects/test-americor-8e8b3f1bd083.json', scope)\n",
    "client = gspread.authorize(creds)"
   ]
  },
  {
   "cell_type": "code",
   "execution_count": 53,
   "id": "7635cef9",
   "metadata": {},
   "outputs": [],
   "source": [
    "# Open the sheet by ID and worksheet name\n",
    "spreadsheet_id = '1u5vCLZlnNS1JRI5dV57KFTA38YOKJAoCncoMv3c-F9A'\n",
    "worksheet = client.open_by_key(spreadsheet_id).worksheet('Sheet1')"
   ]
  },
  {
   "cell_type": "code",
   "execution_count": 54,
   "id": "cfb883fe",
   "metadata": {},
   "outputs": [
    {
     "data": {
      "text/plain": [
       "{'spreadsheetId': '1u5vCLZlnNS1JRI5dV57KFTA38YOKJAoCncoMv3c-F9A',\n",
       " 'updatedRange': 'Sheet1!A2:C14',\n",
       " 'updatedRows': 13,\n",
       " 'updatedColumns': 3,\n",
       " 'updatedCells': 39}"
      ]
     },
     "execution_count": 54,
     "metadata": {},
     "output_type": "execute_result"
    }
   ],
   "source": [
    "# Clear the sheet\n",
    "worksheet.clear()\n",
    "\n",
    "# Write the data to the sheet\n",
    "worksheet.update(range_name, data)"
   ]
  }
 ],
 "metadata": {
  "kernelspec": {
   "display_name": "Python 3",
   "language": "python",
   "name": "python3"
  },
  "language_info": {
   "codemirror_mode": {
    "name": "ipython",
    "version": 3
   },
   "file_extension": ".py",
   "mimetype": "text/x-python",
   "name": "python",
   "nbconvert_exporter": "python",
   "pygments_lexer": "ipython3",
   "version": "3.8.8"
  }
 },
 "nbformat": 4,
 "nbformat_minor": 5
}
